{
 "cells": [
  {
   "cell_type": "markdown",
   "metadata": {},
   "source": [
    "# Invoke Lambda in Request, Response Style, via SDK and API Gateway\n",
    "\n",
    "This article walks you through a minimal example of writing lambda function, and invoke this function via any programming language or API Gateway."
   ]
  },
  {
   "cell_type": "code",
   "execution_count": 20,
   "metadata": {},
   "outputs": [],
   "source": [
    "# First, let's install dependencies\n",
    "!pip install pip --upgrade -q\n",
    "!pip install boto3 -q\n",
    "!pip install requests -q"
   ]
  },
  {
   "cell_type": "markdown",
   "metadata": {},
   "source": [
    "## Setup an Example Lambda Function\n",
    "\n",
    "Let's create a simple lambda function that take the data in ``event[\"data\"]`` and return the sum of it."
   ]
  },
  {
   "cell_type": "code",
   "execution_count": null,
   "metadata": {},
   "outputs": [],
   "source": [
    "# content of func_sum_all.py\n",
    "\n",
    "import json\n",
    "\n",
    "def handler(event, context):\n",
    "    print(\"Received event: \" + json.dumps(event, indent=2))\n",
    "    total = sum(event[\"data\"])\n",
    "    return {\"total\": total}"
   ]
  },
  {
   "cell_type": "markdown",
   "metadata": {},
   "source": [
    "For request / response type of invoke, there are two common ways:\n",
    "\n",
    "1. direct invoke via AWS SDK (Python / Ruby / Java ...)\n",
    "2. http requests via API-Gateway\n",
    "\n",
    "**Let's see how to invoke lambda from your favorite programming language**."
   ]
  },
  {
   "cell_type": "markdown",
   "metadata": {},
   "source": [
    "## Invoke Lambda from any Programming Language\n",
    "\n",
    "Since **Lambda use binary json string as the interface**, so it doesn't matter of which programming language you use in either Lambda code, or invokation code. Let's use boto3 as example\n",
    "\n",
    "boto3 lambda invoke API reference: https://boto3.amazonaws.com/v1/documentation/api/latest/reference/services/lambda.html#Lambda.Client.invoke"
   ]
  },
  {
   "cell_type": "code",
   "execution_count": 8,
   "metadata": {},
   "outputs": [
    {
     "name": "stdout",
     "output_type": "stream",
     "text": [
      "{'ExecutedVersion': '$LATEST',\n",
      " 'Payload': <botocore.response.StreamingBody object at 0x10592c9e8>,\n",
      " 'ResponseMetadata': {'HTTPHeaders': {'connection': 'keep-alive',\n",
      "                                      'content-length': '12',\n",
      "                                      'content-type': 'application/json',\n",
      "                                      'date': 'Tue, 30 Apr 2019 14:46:31 GMT',\n",
      "                                      'x-amz-executed-version': '$LATEST',\n",
      "                                      'x-amzn-remapped-content-length': '0',\n",
      "                                      'x-amzn-requestid': '443c588c-4841-4f6b-9732-5d6e86c4955e',\n",
      "                                      'x-amzn-trace-id': 'root=1-5cc85fc7-fc93df9063cf8380b607113c;sampled=0'},\n",
      "                      'HTTPStatusCode': 200,\n",
      "                      'RequestId': '443c588c-4841-4f6b-9732-5d6e86c4955e',\n",
      "                      'RetryAttempts': 0},\n",
      " 'StatusCode': 200}\n"
     ]
    }
   ],
   "source": [
    "# content of invoke_func_sum_all.py\n",
    "import json\n",
    "import boto3\n",
    "\n",
    "# set up lambda client\n",
    "aws_profile = \"xxx\" # replace it with your own aws profile\n",
    "ses = boto3.Session(profile_name=aws_profile)\n",
    "client = ses.client(\"lambda\")\n",
    "\n",
    "event = {\"data\": [1, 2, 3]}\n",
    "\n",
    "response = client.invoke(\n",
    "    FunctionName=\"test-int-with-api-gate\",\n",
    "    InvocationType=\"RequestResponse\",\n",
    "    Payload=json.dumps(event).encode(\"utf-8\")\n",
    ")\n",
    "\n",
    "from pprint import pprint\n",
    "pprint(response)"
   ]
  },
  {
   "cell_type": "code",
   "execution_count": 7,
   "metadata": {},
   "outputs": [
    {
     "data": {
      "text/plain": [
       "<botocore.response.StreamingBody at 0x105518588>"
      ]
     },
     "execution_count": 7,
     "metadata": {},
     "output_type": "execute_result"
    }
   ],
   "source": [
    "payload = response[\"Payload\"]\n",
    "payload"
   ]
  },
  {
   "cell_type": "code",
   "execution_count": 6,
   "metadata": {},
   "outputs": [
    {
     "data": {
      "text/plain": [
       "{'total': 6}"
      ]
     },
     "execution_count": 6,
     "metadata": {},
     "output_type": "execute_result"
    }
   ],
   "source": [
    "binary = payload.read()\n",
    "json_text = binary.decode(\"utf-8\")\n",
    "result = json.loads(json_text)\n",
    "result"
   ]
  },
  {
   "cell_type": "markdown",
   "metadata": {},
   "source": [
    "## Invoke Lambda Function via API Gateway\n",
    "\n",
    "API Gateway allows developer to isolate the lambda function from the api caller. It provides built-in access control, cache, and more useful feature\n",
    "\n",
    "Frist, let's set up your API gateway\n",
    "\n",
    "1. Goto AWS API gateway console\n",
    "2. Click Create API\n",
    "3. Select **Protocol = Rest**, Create New API, pick a API name and click Create\n",
    "4. Select your API in dashboard, choose **Resource menu**, create a post method, and link it to your lambda function.\n",
    "5. Click **deploy api** in **Resource menu**, pick a stage name, let's say: \"test\"\n",
    "6. Choose **Stage menu**, find your API endpoint url\n",
    "\n",
    "\n",
    "In python, requests is the community standard to make http request. Let's invoke the lambda function via http requests.\n",
    "\n",
    "Reference: https://2.python-requests.org/en/master/user/quickstart/#make-a-request"
   ]
  },
  {
   "cell_type": "code",
   "execution_count": 21,
   "metadata": {},
   "outputs": [],
   "source": [
    "import requests\n",
    "import json\n",
    "\n",
    "api_endpoint = \"https://xxxxxxxxxx.execute-api.us-east-1.amazonaws.com/test\"\n",
    "data = {\"data\": [1, 2, 3]}\n",
    "response = requests.post(api_endpoint, data=json.dumps(data))"
   ]
  },
  {
   "cell_type": "code",
   "execution_count": 17,
   "metadata": {},
   "outputs": [
    {
     "data": {
      "text/plain": [
       "'{\"total\": 6}'"
      ]
     },
     "execution_count": 17,
     "metadata": {},
     "output_type": "execute_result"
    }
   ],
   "source": [
    "response.text"
   ]
  },
  {
   "cell_type": "code",
   "execution_count": 18,
   "metadata": {},
   "outputs": [
    {
     "data": {
      "text/plain": [
       "str"
      ]
     },
     "execution_count": 18,
     "metadata": {},
     "output_type": "execute_result"
    }
   ],
   "source": [
    "type(response.text)"
   ]
  },
  {
   "cell_type": "markdown",
   "metadata": {},
   "source": [
    "## Summary\n",
    "\n",
    "- The payload data in request and response are always binary json text.\n",
    "- The payload data in lambda function code input output are always json serializable object. In python, it usually a dict, rarely a list."
   ]
  }
 ],
 "metadata": {
  "kernelspec": {
   "display_name": "Python 3",
   "language": "python",
   "name": "python3"
  },
  "language_info": {
   "codemirror_mode": {
    "name": "ipython",
    "version": 3
   },
   "file_extension": ".py",
   "mimetype": "text/x-python",
   "name": "python",
   "nbconvert_exporter": "python",
   "pygments_lexer": "ipython3",
   "version": "3.6.2"
  }
 },
 "nbformat": 4,
 "nbformat_minor": 2
}
